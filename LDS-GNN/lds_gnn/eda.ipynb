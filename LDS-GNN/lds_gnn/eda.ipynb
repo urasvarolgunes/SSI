{
 "cells": [
  {
   "cell_type": "code",
   "execution_count": 23,
   "metadata": {},
   "outputs": [],
   "source": [
    "from sklearn import datasets\n",
    "from sklearn.preprocessing import LabelBinarizer\n",
    "import numpy as np"
   ]
  },
  {
   "cell_type": "code",
   "execution_count": 24,
   "metadata": {},
   "outputs": [],
   "source": [
    "data = datasets.load_breast_cancer()"
   ]
  },
  {
   "cell_type": "code",
   "execution_count": 25,
   "metadata": {},
   "outputs": [
    {
     "data": {
      "text/plain": [
       "dict_keys(['data', 'target', 'frame', 'target_names', 'DESCR', 'feature_names', 'filename', 'data_module'])"
      ]
     },
     "execution_count": 25,
     "metadata": {},
     "output_type": "execute_result"
    }
   ],
   "source": [
    "data.keys()"
   ]
  },
  {
   "cell_type": "code",
   "execution_count": 26,
   "metadata": {},
   "outputs": [],
   "source": [
    "features = data.data\n",
    "y = data.target"
   ]
  },
  {
   "cell_type": "code",
   "execution_count": 27,
   "metadata": {},
   "outputs": [],
   "source": [
    "ys = LabelBinarizer().fit_transform(y)\n",
    "n = features.shape[0]"
   ]
  },
  {
   "cell_type": "code",
   "execution_count": 28,
   "metadata": {},
   "outputs": [],
   "source": [
    "self.n_train = 10\n",
    "self.n_val = 10\n",
    "self.n_es = 10\n"
   ]
  },
  {
   "cell_type": "code",
   "execution_count": 33,
   "metadata": {},
   "outputs": [],
   "source": [
    "from sklearn.model_selection import train_test_split"
   ]
  },
  {
   "cell_type": "code",
   "execution_count": 32,
   "metadata": {},
   "outputs": [
    {
     "data": {
      "text/plain": [
       "(569, 2)"
      ]
     },
     "execution_count": 32,
     "metadata": {},
     "output_type": "execute_result"
    }
   ],
   "source": [
    "train, test, y_train, y_test = train_test_split(np.arange(n), y, random_state=self.seed,\n",
    "                                                train_size=self.n_train + self.n_val + self.n_es,\n",
    "                                                test_size=n - self.n_train - self.n_val - self.n_es,\n",
    "                                                stratify=y)\n",
    "train, es, y_train, y_es = train_test_split(train, y_train, random_state=self.seed,\n",
    "                                            train_size=self.n_train + self.n_val, test_size=self.n_es,\n",
    "                                            stratify=y_train)\n",
    "train, val, y_train, y_val = train_test_split(train, y_train, random_state=self.seed,\n",
    "                                                train_size=self.n_train, test_size=self.n_val,\n",
    "                                                stratify=y_train)\n",
    "\n",
    "train_mask = np.zeros([n, ], dtype=bool)\n",
    "train_mask[train] = True\n",
    "val_mask = np.zeros([n, ], dtype=bool)\n",
    "val_mask[val] = True\n",
    "es_mask = np.zeros([n, ], dtype=bool)\n",
    "es_mask[es] = True\n",
    "test_mask = np.zeros([n, ], dtype=bool)\n",
    "test_mask[test] = True"
   ]
  },
  {
   "cell_type": "code",
   "execution_count": 12,
   "metadata": {},
   "outputs": [],
   "source": [
    "import tensorflow as tf\n",
    "import numpy as np"
   ]
  },
  {
   "cell_type": "code",
   "execution_count": 71,
   "metadata": {},
   "outputs": [
    {
     "name": "stdout",
     "output_type": "stream",
     "text": [
      "[[ 1. 36.  0.]\n",
      " [ 4.  0.  0.]\n",
      " [25.  0.  0.]]\n",
      "11.0\n",
      "h\n"
     ]
    },
    {
     "name": "stderr",
     "output_type": "stream",
     "text": [
      "2022-05-16 16:20:25.460635: I tensorflow/core/common_runtime/gpu/gpu_device.cc:1640] Found device 0 with properties: \n",
      "name: NVIDIA Quadro GP100 major: 6 minor: 0 memoryClockRate(GHz): 1.4425\n",
      "pciBusID: 0000:b3:00.0\n",
      "2022-05-16 16:20:25.460721: I tensorflow/stream_executor/platform/default/dso_loader.cc:42] Successfully opened dynamic library libcudart.so.10.1\n",
      "2022-05-16 16:20:25.460732: I tensorflow/stream_executor/platform/default/dso_loader.cc:42] Successfully opened dynamic library libcublas.so.10\n",
      "2022-05-16 16:20:25.460741: I tensorflow/stream_executor/platform/default/dso_loader.cc:42] Successfully opened dynamic library libcufft.so.10\n",
      "2022-05-16 16:20:25.460749: I tensorflow/stream_executor/platform/default/dso_loader.cc:42] Successfully opened dynamic library libcurand.so.10\n",
      "2022-05-16 16:20:25.460758: I tensorflow/stream_executor/platform/default/dso_loader.cc:42] Successfully opened dynamic library libcusolver.so.10\n",
      "2022-05-16 16:20:25.460766: I tensorflow/stream_executor/platform/default/dso_loader.cc:42] Successfully opened dynamic library libcusparse.so.10\n",
      "2022-05-16 16:20:25.460774: I tensorflow/stream_executor/platform/default/dso_loader.cc:42] Successfully opened dynamic library libcudnn.so.7\n",
      "2022-05-16 16:20:25.461258: I tensorflow/core/common_runtime/gpu/gpu_device.cc:1763] Adding visible gpu devices: 0\n",
      "2022-05-16 16:20:25.461284: I tensorflow/core/common_runtime/gpu/gpu_device.cc:1181] Device interconnect StreamExecutor with strength 1 edge matrix:\n",
      "2022-05-16 16:20:25.461289: I tensorflow/core/common_runtime/gpu/gpu_device.cc:1187]      0 \n",
      "2022-05-16 16:20:25.461293: I tensorflow/core/common_runtime/gpu/gpu_device.cc:1200] 0:   N \n",
      "2022-05-16 16:20:25.461773: I tensorflow/core/common_runtime/gpu/gpu_device.cc:1326] Created TensorFlow device (/job:localhost/replica:0/task:0/device:GPU:0 with 15176 MB memory) -> physical GPU (device: 0, name: NVIDIA Quadro GP100, pci bus id: 0000:b3:00.0, compute capability: 6.0)\n"
     ]
    }
   ],
   "source": [
    "labels = tf.constant([[1.,2.,5.],[6.,0.,0.],[3.,3.,3.]], name='labels')\n",
    "preds = tf.constant([[0.,0.,0.],[0.,0.,0.],[0.,0.,0.]], name='preds')\n",
    "label_mask = tf.placeholder(tf.int32)\n",
    "label_mask = tf.cast(label_mask, tf.float32)\n",
    "\n",
    "num_test = tf.reduce_sum(label_mask)\n",
    "error = tf.squared_difference(tf.transpose(preds)*label_mask, tf.transpose(labels)*label_mask)\n",
    "error2 = tf.reduce_sum(error)/(tf.cast(num_test, tf.float32)*tf.cast(labels.shape[0],tf.float32))\n",
    "\n",
    "mask = np.array([True,True,False])\n",
    "with tf.Session() as sess:\n",
    "    error = sess.run(fetches=error, feed_dict={label_mask:mask})\n",
    "    error2 = sess.run(fetches=error2, feed_dict={label_mask:mask})\n",
    "\n",
    "print(error)\n",
    "print(error2)\n",
    "print('h')"
   ]
  },
  {
   "cell_type": "code",
   "execution_count": null,
   "metadata": {},
   "outputs": [],
   "source": []
  },
  {
   "cell_type": "code",
   "execution_count": null,
   "metadata": {},
   "outputs": [],
   "source": []
  }
 ],
 "metadata": {
  "interpreter": {
   "hash": "792a5ec20ed79a7b18ac8addbf1b4ed5460f2e5b54cc14b097bd89fa0b030782"
  },
  "kernelspec": {
   "display_name": "Python 3.7.4 ('base')",
   "language": "python",
   "name": "python3"
  },
  "language_info": {
   "codemirror_mode": {
    "name": "ipython",
    "version": 3
   },
   "file_extension": ".py",
   "mimetype": "text/x-python",
   "name": "python",
   "nbconvert_exporter": "python",
   "pygments_lexer": "ipython3",
   "version": "3.7.4"
  },
  "orig_nbformat": 4
 },
 "nbformat": 4,
 "nbformat_minor": 2
}
